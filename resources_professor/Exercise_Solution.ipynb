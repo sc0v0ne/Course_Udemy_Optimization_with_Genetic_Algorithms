{
  "nbformat": 4,
  "nbformat_minor": 0,
  "metadata": {
    "colab": {
      "provenance": []
    },
    "kernelspec": {
      "name": "python3",
      "display_name": "Python 3"
    },
    "language_info": {
      "name": "python"
    }
  },
  "cells": [
    {
      "cell_type": "code",
      "execution_count": 1,
      "metadata": {
        "colab": {
          "base_uri": "https://localhost:8080/"
        },
        "id": "GgRCQMcvB0eX",
        "outputId": "0fca6c2c-4f74-4524-d0ec-32820447485f"
      },
      "outputs": [
        {
          "output_type": "stream",
          "name": "stdout",
          "text": [
            "Looking in indexes: https://pypi.org/simple, https://us-python.pkg.dev/colab-wheels/public/simple/\n",
            "Collecting geneticalgorithm\n",
            "  Downloading geneticalgorithm-1.0.2-py3-none-any.whl (16 kB)\n",
            "Collecting func-timeout (from geneticalgorithm)\n",
            "  Downloading func_timeout-4.3.5.tar.gz (44 kB)\n",
            "\u001b[2K     \u001b[90m━━━━━━━━━━━━━━━━━━━━━━━━━━━━━━━━━━━━━━━━\u001b[0m \u001b[32m44.3/44.3 kB\u001b[0m \u001b[31m3.5 MB/s\u001b[0m eta \u001b[36m0:00:00\u001b[0m\n",
            "\u001b[?25h  Preparing metadata (setup.py) ... \u001b[?25l\u001b[?25hdone\n",
            "Requirement already satisfied: numpy in /usr/local/lib/python3.10/dist-packages (from geneticalgorithm) (1.22.4)\n",
            "Building wheels for collected packages: func-timeout\n",
            "  Building wheel for func-timeout (setup.py) ... \u001b[?25l\u001b[?25hdone\n",
            "  Created wheel for func-timeout: filename=func_timeout-4.3.5-py3-none-any.whl size=15079 sha256=ece33470c370a8217db34af8730326c066cf207e62f1aed60fc208e05425d491\n",
            "  Stored in directory: /root/.cache/pip/wheels/3f/83/19/b5552bb9630e353f7c5b15be44bf10900afe1abbbfcf536afd\n",
            "Successfully built func-timeout\n",
            "Installing collected packages: func-timeout, geneticalgorithm\n",
            "Successfully installed func-timeout-4.3.5 geneticalgorithm-1.0.2\n"
          ]
        }
      ],
      "source": [
        "!pip install geneticalgorithm"
      ]
    },
    {
      "cell_type": "code",
      "source": [
        "import numpy as np\n",
        "from geneticalgorithm import geneticalgorithm as ga\n",
        "\n",
        "def fitness_function(X):\n",
        "  x1 = X[0]\n",
        "  x2 = X[1]\n",
        "  x3 = X[2]\n",
        "  x4 = X[3]\n",
        "\n",
        "  penalty=0\n",
        "  if 5*x1 + 7*x2 + 4*x3 + 3*x4 > 14:\n",
        "    penalty = np.inf\n",
        "  \n",
        "  return -(16*x1+22*x2+12*x3+8*x4) + penalty \n",
        "\n",
        "algorithm_params = {'max_num_iteration':None,\\\n",
        "                    'population_size':1000,\\\n",
        "                    'mutation_probability':0.5,\\\n",
        "                    'elit_ratio':0.01,\\\n",
        "                    'crossover_probability':0.5,\\\n",
        "                    'parents_portion':0.3,\\\n",
        "                    'crossover_type':'uniform',\\\n",
        "                    'max_iteration_without_improv':None}\n",
        "\n",
        "model = ga(function=fitness_function,dimension=4,\n",
        "            variable_type='bool',algorithm_parameters=algorithm_params)\n",
        "\n",
        "model.run()"
      ],
      "metadata": {
        "colab": {
          "base_uri": "https://localhost:8080/",
          "height": 614
        },
        "id": "djSdD4DYB9rA",
        "outputId": "df16d49e-f621-49fb-d32b-1813a940ef0c"
      },
      "execution_count": 2,
      "outputs": [
        {
          "output_type": "stream",
          "name": "stdout",
          "text": [
            "\r|||||||||||||||||||||||||||||||||||||||||||||||||| 100.0% GA is running..."
          ]
        },
        {
          "output_type": "stream",
          "name": "stderr",
          "text": [
            "/usr/local/lib/python3.10/dist-packages/geneticalgorithm/geneticalgorithm.py:353: RuntimeWarning: invalid value encountered in subtract\n",
            "  normobj=maxnorm-normobj+1\n"
          ]
        },
        {
          "output_type": "stream",
          "name": "stdout",
          "text": [
            "\r                                                                                                    \r The best solution found:\n",
            " [0. 1. 1. 1.]\n",
            "\n",
            " Objective function:\n",
            " -42.0\n"
          ]
        },
        {
          "output_type": "display_data",
          "data": {
            "text/plain": [
              "<Figure size 640x480 with 1 Axes>"
            ],
            "image/png": "[encoded data removed]"
          },
          "metadata": {}
        }
      ]
    }
  ]
}