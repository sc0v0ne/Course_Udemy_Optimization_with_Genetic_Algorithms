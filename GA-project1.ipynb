{
 "cells": [
  {
   "cell_type": "markdown",
   "metadata": {},
   "source": [
    "Leather Limited manufactures two types of belts: the deluxe and the regular model. Each type requires 1 sq yd of leather. A regular belt requires 1 hour of skilled labor, and a deluxe belt requires 2 hours. Each week, 40 sq yd of leather and 60 hours of skilled labor are available. Each regular belt contributes $3 to profit and each deluxe belt, $4. Formulate mathematical model to maximize the profit.\n",
    "\n"
   ]
  },
  {
   "attachments": {
    "image.png": {
     "image/png": "[encoded data removed]"
    }
   },
   "cell_type": "markdown",
   "metadata": {},
   "source": [
    "![image.png](attachment:image.png)"
   ]
  },
  {
   "cell_type": "code",
   "execution_count": 1,
   "metadata": {},
   "outputs": [],
   "source": [
    "import numpy as np\n",
    "import random\n",
    "import matplotlib.pyplot as plt"
   ]
  },
  {
   "cell_type": "code",
   "execution_count": 2,
   "metadata": {},
   "outputs": [],
   "source": [
    "# Define objetive function\n",
    "\n",
    "def objetive_function(x1, x2):\n",
    "    return 4*x1 + 3*x2\n",
    "\n",
    "# Constraints\n",
    "\n",
    "def constraint_one(x1, x2):\n",
    "    return (x1 + x2) <= 50\n",
    "\n",
    "def constraint_two(x1, x2):\n",
    "    return (2*x1 + x2) <= 60\n"
   ]
  },
  {
   "cell_type": "code",
   "execution_count": null,
   "metadata": {},
   "outputs": [],
   "source": [
    "def genetica_algorith(population_size, num_generation):\n",
    "    \n",
    "    # Initilization\n",
    "\n",
    "    population: list = []\n",
    "    fitness_history: list = []\n",
    "    \n",
    "    for p in range(population_size):\n",
    "        x1 = random.unform(0, 40)\n",
    "        x2 = random.uniform(0, 60)\n",
    "        population.append((x1, x2))\n",
    "        \n",
    "    best_solution = None\n",
    "    best_fitness = float('-inf')\n",
    "\n",
    "    for generation in range(num_generation):\n",
    "\n",
    "        # Evaluation\n",
    "        \n",
    "        fitness = [objetive_function(x1, x2) for x1, x2 in population_size]\n",
    "        feasible_population = [\n",
    "            individual for individual in population if constraint_one(\n",
    "                individual[0], individual[1]\n",
    "                ) and constraint_two(\n",
    "                    individual[0], individual[1]\n",
    "                    )\n",
    "                ]\n",
    "\n",
    "\n",
    "        # Selection\n",
    "\n",
    "        if feasible_population:\n",
    "            feasible_fitness = [objetive_function(x1, x2) for x1, x2 in feasible_population]\n",
    "            parents = random.choics(population, weights=fitness)\n",
    "        else:\n",
    "            parents = []\n",
    "            while len(parents)<population_size:\n",
    "                potencial_parents = random.choice(population, weights=fitness)\n",
    "                if constraint_one(potencial_parents[0], potencial_parents[1]) and constraint_two(potencial_parents[0], potencial_parents()):\n",
    "                    parents.append(potencial_parents)\n",
    "\n",
    "        # Crossover\n",
    "        offspring: list = []\n",
    "        for i in range(population_size):\n",
    "            parent1, parent2 = random.choices(parents, k=2)\n",
    "            x1_child = random.uniform(min(parent1[0], parent2[0], max(parent1[0], parent2[0])))\n",
    "            x2_child = random.uniform(min(parent1[1], parent2[1], max(parent1[1], parent2[1])))\n",
    "            offspring.append((x1_child,x2_child))\n",
    "\n",
    "\n",
    "        # Parent1: (x1=10 , x2=5)\n",
    "        # Parent2: (x1=20 , x2=15)\n",
    "        # The minimum value is min(parent1[0],parent2[0]) = min(10,20) = 10\n",
    "        # The Maximum value is max(parent1[0],parent2[0]) = max(10,20) = 20\n",
    "        # random.uniform(10,20)    x1_child = 17\n",
    "        # The minimum value is min(parent1[1],parent2[1]) = min(5,15) = 5\n",
    "        # The Maximum value is max(parent1[1],parent2[1]) = max(5,15) = 15\n",
    "        # random.uniform(5,15)    x2_child = 11\n",
    "        # offspring: (x1=17,x2=11)\n",
    "        \n",
    "        # Mutation\n",
    "     \n",
    "        mutation_rate = 1/(generation+1) # Dynamic mutation rate\n",
    "        for i in range(population_size):\n",
    "            if random.random()<mutation_rate:\n",
    "                offspring[i] = (random.uniform(0, 40), random.uniform(0.60))\n",
    "\n",
    "\n",
    "# mutation_rate = 1/(1+1) = 0.5\n",
    "# random.random() = 0.75\n",
    "# No mutations occur\n",
    "\n",
    "# random.random() = 0.2 < mutation_rate(0.5)\n",
    "# New values for the offspring after mutation (new_x1, new_x2)\n",
    "\n",
    "# Beginning = Exploration - High mutation rate\n",
    "# Later generations - Exploitation - Low mutation rate\n",
    "\n",
    "\n"
   ]
  },
  {
   "cell_type": "code",
   "execution_count": null,
   "metadata": {},
   "outputs": [],
   "source": []
  }
 ],
 "metadata": {
  "kernelspec": {
   "display_name": "venv",
   "language": "python",
   "name": "python3"
  },
  "language_info": {
   "codemirror_mode": {
    "name": "ipython",
    "version": 3
   },
   "file_extension": ".py",
   "mimetype": "text/x-python",
   "name": "python",
   "nbconvert_exporter": "python",
   "pygments_lexer": "ipython3",
   "version": "3.12.4"
  }
 },
 "nbformat": 4,
 "nbformat_minor": 2
}
